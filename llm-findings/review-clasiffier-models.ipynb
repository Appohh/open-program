{
 "cells": [
  {
   "cell_type": "markdown",
   "metadata": {},
   "source": [
    "# Classify Reviews With Large Language Models\n",
    "In this notebook I will be using several pre-trained Large Language Models to classify if a review is positive, neutral or negative.\n",
    "I will also compare which one classifies best."
   ]
  },
  {
   "cell_type": "markdown",
   "metadata": {},
   "source": [
    "## Preperation"
   ]
  },
  {
   "cell_type": "markdown",
   "metadata": {},
   "source": [
    "Import libraries. </br>\n",
    "Transformers for using the pipeline, a feature of Huggingface which allows me to easily setup and use pre-trained models from one pipeline. This is also nice to switch between models. </br>\n",
    "Pandas to put results/values in dataframes"
   ]
  },
  {
   "cell_type": "code",
   "execution_count": 3,
   "metadata": {},
   "outputs": [],
   "source": [
    "from transformers import pipeline\n",
    "import pandas as pd"
   ]
  },
  {
   "cell_type": "markdown",
   "metadata": {},
   "source": [
    "### Define models, pipelines, reviews and labels\n",
    "**Models:** I am using DistilBERT, BART and RoBERTa <br>\n",
    "**Reviews:** I made a few reviews from which some are easy to classify and some are harder, like \"I dont know what to think about this\" to see what the model desicions the model will make. <br>\n",
    "**Labels:** I am using 3 labels. Positive, Negative and Neutral. <br>"
   ]
  },
  {
   "cell_type": "code",
   "execution_count": 4,
   "metadata": {},
   "outputs": [
    {
     "name": "stderr",
     "output_type": "stream",
     "text": [
      "The `xla_device` argument has been deprecated in v4.4.0 of Transformers. It is ignored and you can safely remove it from your `config.json` file.\n"
     ]
    },
    {
     "name": "stdout",
     "output_type": "stream",
     "text": [
      "WARNING:tensorflow:From C:\\Users\\alpay\\AppData\\Local\\Packages\\PythonSoftwareFoundation.Python.3.10_qbz5n2kfra8p0\\LocalCache\\local-packages\\Python310\\site-packages\\tf_keras\\src\\losses.py:2976: The name tf.losses.sparse_softmax_cross_entropy is deprecated. Please use tf.compat.v1.losses.sparse_softmax_cross_entropy instead.\n",
      "\n"
     ]
    },
    {
     "name": "stderr",
     "output_type": "stream",
     "text": [
      "The `xla_device` argument has been deprecated in v4.4.0 of Transformers. It is ignored and you can safely remove it from your `config.json` file.\n",
      "C:\\Users\\alpay\\AppData\\Local\\Packages\\PythonSoftwareFoundation.Python.3.10_qbz5n2kfra8p0\\LocalCache\\local-packages\\Python310\\site-packages\\huggingface_hub\\file_download.py:157: UserWarning: `huggingface_hub` cache-system uses symlinks by default to efficiently store duplicated files but your machine does not support them in C:\\Users\\alpay\\.cache\\huggingface\\hub\\models--typeform--distilbert-base-uncased-mnli. Caching files will still work but in a degraded version that might require more space on your disk. This warning can be disabled by setting the `HF_HUB_DISABLE_SYMLINKS_WARNING` environment variable. For more details, see https://huggingface.co/docs/huggingface_hub/how-to-cache#limitations.\n",
      "To support symlinks on Windows, you either need to activate Developer Mode or to run Python as an administrator. In order to see activate developer mode, see this article: https://docs.microsoft.com/en-us/windows/apps/get-started/enable-your-device-for-development\n",
      "  warnings.warn(message)\n",
      "The `xla_device` argument has been deprecated in v4.4.0 of Transformers. It is ignored and you can safely remove it from your `config.json` file.\n",
      "The `xla_device` argument has been deprecated in v4.4.0 of Transformers. It is ignored and you can safely remove it from your `config.json` file.\n",
      "The `xla_device` argument has been deprecated in v4.4.0 of Transformers. It is ignored and you can safely remove it from your `config.json` file.\n",
      "C:\\Users\\alpay\\AppData\\Local\\Packages\\PythonSoftwareFoundation.Python.3.10_qbz5n2kfra8p0\\LocalCache\\local-packages\\Python310\\site-packages\\huggingface_hub\\file_download.py:157: UserWarning: `huggingface_hub` cache-system uses symlinks by default to efficiently store duplicated files but your machine does not support them in C:\\Users\\alpay\\.cache\\huggingface\\hub\\models--facebook--bart-large-mnli. Caching files will still work but in a degraded version that might require more space on your disk. This warning can be disabled by setting the `HF_HUB_DISABLE_SYMLINKS_WARNING` environment variable. For more details, see https://huggingface.co/docs/huggingface_hub/how-to-cache#limitations.\n",
      "To support symlinks on Windows, you either need to activate Developer Mode or to run Python as an administrator. In order to see activate developer mode, see this article: https://docs.microsoft.com/en-us/windows/apps/get-started/enable-your-device-for-development\n",
      "  warnings.warn(message)\n",
      "C:\\Users\\alpay\\AppData\\Local\\Packages\\PythonSoftwareFoundation.Python.3.10_qbz5n2kfra8p0\\LocalCache\\local-packages\\Python310\\site-packages\\huggingface_hub\\file_download.py:157: UserWarning: `huggingface_hub` cache-system uses symlinks by default to efficiently store duplicated files but your machine does not support them in C:\\Users\\alpay\\.cache\\huggingface\\hub\\models--roberta-large-mnli. Caching files will still work but in a degraded version that might require more space on your disk. This warning can be disabled by setting the `HF_HUB_DISABLE_SYMLINKS_WARNING` environment variable. For more details, see https://huggingface.co/docs/huggingface_hub/how-to-cache#limitations.\n",
      "To support symlinks on Windows, you either need to activate Developer Mode or to run Python as an administrator. In order to see activate developer mode, see this article: https://docs.microsoft.com/en-us/windows/apps/get-started/enable-your-device-for-development\n",
      "  warnings.warn(message)\n",
      "Some weights of the model checkpoint at roberta-large-mnli were not used when initializing RobertaForSequenceClassification: ['roberta.pooler.dense.bias', 'roberta.pooler.dense.weight']\n",
      "- This IS expected if you are initializing RobertaForSequenceClassification from the checkpoint of a model trained on another task or with another architecture (e.g. initializing a BertForSequenceClassification model from a BertForPreTraining model).\n",
      "- This IS NOT expected if you are initializing RobertaForSequenceClassification from the checkpoint of a model that you expect to be exactly identical (initializing a BertForSequenceClassification model from a BertForSequenceClassification model).\n"
     ]
    }
   ],
   "source": [
    "# Initialize the pipelines for the three models\n",
    "models = {\n",
    "    \"distilbert\": \"typeform/distilbert-base-uncased-mnli\",\n",
    "    \"bart\": \"facebook/bart-large-mnli\",\n",
    "    \"roberta\": \"roberta-large-mnli\"\n",
    "}\n",
    "pipelines = {name: pipeline(\"zero-shot-classification\", model=model_name) for name, model_name in models.items()}\n",
    "\n",
    "# Define your input data and labels\n",
    "reviews = [\n",
    "    [\"This product was great! I absolutely loved it.\", \"positive\"],\n",
    "    [\"Worst purchase I have made. Completely disappointed.\", \"negative\"],\n",
    "    [\"Okay product, but would not buy again.\", \"neutral\"],\n",
    "    [\"I dont know what to think about this product.\", \"neutral\"],\n",
    "    [\"its not bad but not good either.\", \"neutral\"]\n",
    "]\n",
    "labels = [\"positive\", \"negative\", \"neutral\"]"
   ]
  },
  {
   "cell_type": "markdown",
   "metadata": {},
   "source": [
    "## Use pre-trained models to classify"
   ]
  },
  {
   "cell_type": "markdown",
   "metadata": {},
   "source": [
    "Everything that was prepped before, is now going to be looped trough and runned. <br>\n",
    "The label and score (confident) will be stored so we can later evaluate."
   ]
  },
  {
   "cell_type": "code",
   "execution_count": 5,
   "metadata": {},
   "outputs": [
    {
     "name": "stdout",
     "output_type": "stream",
     "text": [
      "{'distilbert': ['positive, Score: 1.00', 'negative, Score: 0.99', 'positive, Score: 0.41', 'neutral, Score: 0.63', 'negative, Score: 0.93'], 'bart': ['positive, Score: 0.99', 'negative, Score: 0.99', 'neutral, Score: 0.56', 'negative, Score: 0.59', 'neutral, Score: 0.89'], 'roberta': ['positive, Score: 0.98', 'negative, Score: 0.98', 'negative, Score: 0.74', 'neutral, Score: 0.52', 'neutral, Score: 0.54']}\n"
     ]
    }
   ],
   "source": [
    "# Adjusted function to evaluate a model and include scores\n",
    "def evaluate_model(pipeline, reviews, labels):\n",
    "    results = []\n",
    "    for review_data in reviews:\n",
    "        review_text, _ = review_data  # Unpack the review text and ignore the label\n",
    "        result = pipeline(review_text, labels)\n",
    "        # Append both label and score for the top result\n",
    "        top_result = result['labels'][0]\n",
    "        top_score = result['scores'][0]\n",
    "        results.append(f\"{top_result}, Score: {top_score:.2f}\")\n",
    "    return results\n",
    "\n",
    "# Evaluate each model and include scores in the results\n",
    "model_results = {name: evaluate_model(pipeline, reviews, labels) for name, pipeline in pipelines.items()}\n",
    "\n",
    "# Print or return model_results as needed\n",
    "print(model_results)"
   ]
  },
  {
   "cell_type": "markdown",
   "metadata": {},
   "source": [
    "Convert results to dataframe"
   ]
  },
  {
   "cell_type": "code",
   "execution_count": 10,
   "metadata": {},
   "outputs": [
    {
     "name": "stdout",
     "output_type": "stream",
     "text": [
      "                                                               distilbert  \\\n",
      "This product was great! I absolutely loved it.      positive, Score: 1.00   \n",
      "Worst purchase I have made. Completely disappoi...  negative, Score: 0.99   \n",
      "Okay product, but would not buy again.              positive, Score: 0.41   \n",
      "I dont know what to think about this product.        neutral, Score: 0.63   \n",
      "its not bad but not good either.                    negative, Score: 0.93   \n",
      "\n",
      "                                                                     bart  \\\n",
      "This product was great! I absolutely loved it.      positive, Score: 0.99   \n",
      "Worst purchase I have made. Completely disappoi...  negative, Score: 0.99   \n",
      "Okay product, but would not buy again.               neutral, Score: 0.56   \n",
      "I dont know what to think about this product.       negative, Score: 0.59   \n",
      "its not bad but not good either.                     neutral, Score: 0.89   \n",
      "\n",
      "                                                                  roberta  \\\n",
      "This product was great! I absolutely loved it.      positive, Score: 0.98   \n",
      "Worst purchase I have made. Completely disappoi...  negative, Score: 0.98   \n",
      "Okay product, but would not buy again.              negative, Score: 0.74   \n",
      "I dont know what to think about this product.        neutral, Score: 0.52   \n",
      "its not bad but not good either.                     neutral, Score: 0.54   \n",
      "\n",
      "                                                   true_label  \n",
      "This product was great! I absolutely loved it.       positive  \n",
      "Worst purchase I have made. Completely disappoi...   negative  \n",
      "Okay product, but would not buy again.                neutral  \n",
      "I dont know what to think about this product.         neutral  \n",
      "its not bad but not good either.                      neutral  \n"
     ]
    }
   ],
   "source": [
    "# Extract just the review texts from the reviews list of lists\n",
    "review_texts = [review[0] for review in reviews]\n",
    "\n",
    "# Convert the results to a DataFrame using review_texts as the index\n",
    "df_results = pd.DataFrame(model_results, index=review_texts)\n",
    "\n",
    "# Add the actual answers (true labels) to the DataFrame\n",
    "df_results['true_label'] = [review[1] for review in reviews]\n",
    "\n",
    "# Print the DataFrame\n",
    "print(df_results)\n"
   ]
  },
  {
   "cell_type": "markdown",
   "metadata": {},
   "source": [
    "This method will evaluate also what the confidents of the models were on the other labels then what they classified, this helps with getting insight in how close a model was from classifying positive instead of neutral for example."
   ]
  },
  {
   "cell_type": "code",
   "execution_count": 7,
   "metadata": {},
   "outputs": [
    {
     "name": "stdout",
     "output_type": "stream",
     "text": [
      "{'distilbert': ['Review: \"This product was great! I absolutely loved it.\" - Predictions: positive, Score: 1.00; neutral, Score: 0.00; negative, Score: 0.00', 'Review: \"Worst purchase I have made. Completely disappointed.\" - Predictions: negative, Score: 0.99; neutral, Score: 0.00; positive, Score: 0.00', 'Review: \"Okay product, but would not buy again.\" - Predictions: positive, Score: 0.41; neutral, Score: 0.38; negative, Score: 0.21', 'Review: \"I dont know what to think about this product.\" - Predictions: neutral, Score: 0.63; negative, Score: 0.36; positive, Score: 0.01', 'Review: \"its not bad but not good either.\" - Predictions: negative, Score: 0.93; neutral, Score: 0.07; positive, Score: 0.01'], 'bart': ['Review: \"This product was great! I absolutely loved it.\" - Predictions: positive, Score: 0.99; neutral, Score: 0.01; negative, Score: 0.00', 'Review: \"Worst purchase I have made. Completely disappointed.\" - Predictions: negative, Score: 0.99; neutral, Score: 0.00; positive, Score: 0.00', 'Review: \"Okay product, but would not buy again.\" - Predictions: neutral, Score: 0.56; negative, Score: 0.22; positive, Score: 0.22', 'Review: \"I dont know what to think about this product.\" - Predictions: negative, Score: 0.59; neutral, Score: 0.39; positive, Score: 0.02', 'Review: \"its not bad but not good either.\" - Predictions: neutral, Score: 0.89; negative, Score: 0.06; positive, Score: 0.05'], 'roberta': ['Review: \"This product was great! I absolutely loved it.\" - Predictions: positive, Score: 0.98; neutral, Score: 0.01; negative, Score: 0.00', 'Review: \"Worst purchase I have made. Completely disappointed.\" - Predictions: negative, Score: 0.98; neutral, Score: 0.01; positive, Score: 0.01', 'Review: \"Okay product, but would not buy again.\" - Predictions: negative, Score: 0.74; neutral, Score: 0.19; positive, Score: 0.07', 'Review: \"I dont know what to think about this product.\" - Predictions: neutral, Score: 0.52; negative, Score: 0.36; positive, Score: 0.12', 'Review: \"its not bad but not good either.\" - Predictions: neutral, Score: 0.54; negative, Score: 0.39; positive, Score: 0.07']}\n"
     ]
    }
   ],
   "source": [
    "def evaluate_model(pipeline, reviews, labels):\n",
    "    results = []\n",
    "    for review_data in reviews:\n",
    "        review_text, _ = review_data  # Unpack the review text and ignore the label\n",
    "        result = pipeline(review_text, labels)\n",
    "        # Initialize a string with the review text to store results for the current review\n",
    "        review_results = f\"Review: \\\"{review_text}\\\" - Predictions: \"\n",
    "        for label, score in zip(result['labels'], result['scores']):\n",
    "            # Append each label and its score to the review_results string\n",
    "            review_results += f\"{label}, Score: {score:.2f}; \"\n",
    "        # Append the formatted string for the current review to the results list\n",
    "        results.append(review_results.strip(\"; \"))  # Remove the trailing semicolon and space\n",
    "    return results\n",
    "\n",
    "# Evaluate each model and include scores in the results\n",
    "model_results1 = {name: evaluate_model(pipeline, reviews, labels) for name, pipeline in pipelines.items()}\n",
    "\n",
    "# Print or return model_results as needed\n",
    "print(model_results1)"
   ]
  },
  {
   "cell_type": "markdown",
   "metadata": {},
   "source": [
    "## Visualize"
   ]
  },
  {
   "cell_type": "markdown",
   "metadata": {},
   "source": [
    "To compare more clear, I am going to visualize the data with the dataframe that we made earlier."
   ]
  },
  {
   "cell_type": "code",
   "execution_count": 19,
   "metadata": {},
   "outputs": [
    {
     "data": {
      "text/html": [
       "<div>\n",
       "<style scoped>\n",
       "    .dataframe tbody tr th:only-of-type {\n",
       "        vertical-align: middle;\n",
       "    }\n",
       "\n",
       "    .dataframe tbody tr th {\n",
       "        vertical-align: top;\n",
       "    }\n",
       "\n",
       "    .dataframe thead th {\n",
       "        text-align: right;\n",
       "    }\n",
       "</style>\n",
       "<table border=\"1\" class=\"dataframe\">\n",
       "  <thead>\n",
       "    <tr style=\"text-align: right;\">\n",
       "      <th></th>\n",
       "      <th>distilbert</th>\n",
       "      <th>distilbert_label</th>\n",
       "      <th>distilbert_score</th>\n",
       "      <th>bart</th>\n",
       "      <th>bart_label</th>\n",
       "      <th>bart_score</th>\n",
       "      <th>roberta</th>\n",
       "      <th>roberta_label</th>\n",
       "      <th>roberta_score</th>\n",
       "      <th>true_label</th>\n",
       "    </tr>\n",
       "  </thead>\n",
       "  <tbody>\n",
       "    <tr>\n",
       "      <th>This product was great! I absolutely loved it.</th>\n",
       "      <td>positive, Score: 1.00</td>\n",
       "      <td>positive</td>\n",
       "      <td>0.999502</td>\n",
       "      <td>positive, Score: 0.99</td>\n",
       "      <td>positive</td>\n",
       "      <td>0.991707</td>\n",
       "      <td>positive, Score: 0.98</td>\n",
       "      <td>positive</td>\n",
       "      <td>0.983558</td>\n",
       "      <td>positive</td>\n",
       "    </tr>\n",
       "    <tr>\n",
       "      <th>Worst purchase I have made. Completely disappointed.</th>\n",
       "      <td>negative, Score: 0.99</td>\n",
       "      <td>negative</td>\n",
       "      <td>0.994568</td>\n",
       "      <td>negative, Score: 0.99</td>\n",
       "      <td>negative</td>\n",
       "      <td>0.993895</td>\n",
       "      <td>negative, Score: 0.98</td>\n",
       "      <td>negative</td>\n",
       "      <td>0.982688</td>\n",
       "      <td>negative</td>\n",
       "    </tr>\n",
       "    <tr>\n",
       "      <th>Okay product, but would not buy again.</th>\n",
       "      <td>positive, Score: 0.41</td>\n",
       "      <td>positive</td>\n",
       "      <td>0.408834</td>\n",
       "      <td>neutral, Score: 0.56</td>\n",
       "      <td>neutral</td>\n",
       "      <td>0.558144</td>\n",
       "      <td>negative, Score: 0.74</td>\n",
       "      <td>negative</td>\n",
       "      <td>0.739806</td>\n",
       "      <td>neutral</td>\n",
       "    </tr>\n",
       "    <tr>\n",
       "      <th>I dont know what to think about this product.</th>\n",
       "      <td>neutral, Score: 0.63</td>\n",
       "      <td>neutral</td>\n",
       "      <td>0.627704</td>\n",
       "      <td>negative, Score: 0.59</td>\n",
       "      <td>negative</td>\n",
       "      <td>0.590069</td>\n",
       "      <td>neutral, Score: 0.52</td>\n",
       "      <td>neutral</td>\n",
       "      <td>0.520079</td>\n",
       "      <td>neutral</td>\n",
       "    </tr>\n",
       "    <tr>\n",
       "      <th>its not bad but not good either.</th>\n",
       "      <td>negative, Score: 0.93</td>\n",
       "      <td>negative</td>\n",
       "      <td>0.926736</td>\n",
       "      <td>neutral, Score: 0.89</td>\n",
       "      <td>neutral</td>\n",
       "      <td>0.892206</td>\n",
       "      <td>neutral, Score: 0.54</td>\n",
       "      <td>neutral</td>\n",
       "      <td>0.536360</td>\n",
       "      <td>neutral</td>\n",
       "    </tr>\n",
       "  </tbody>\n",
       "</table>\n",
       "</div>"
      ],
      "text/plain": [
       "                                                               distilbert  \\\n",
       "This product was great! I absolutely loved it.      positive, Score: 1.00   \n",
       "Worst purchase I have made. Completely disappoi...  negative, Score: 0.99   \n",
       "Okay product, but would not buy again.              positive, Score: 0.41   \n",
       "I dont know what to think about this product.        neutral, Score: 0.63   \n",
       "its not bad but not good either.                    negative, Score: 0.93   \n",
       "\n",
       "                                                   distilbert_label  \\\n",
       "This product was great! I absolutely loved it.             positive   \n",
       "Worst purchase I have made. Completely disappoi...         negative   \n",
       "Okay product, but would not buy again.                     positive   \n",
       "I dont know what to think about this product.               neutral   \n",
       "its not bad but not good either.                           negative   \n",
       "\n",
       "                                                    distilbert_score  \\\n",
       "This product was great! I absolutely loved it.              0.999502   \n",
       "Worst purchase I have made. Completely disappoi...          0.994568   \n",
       "Okay product, but would not buy again.                      0.408834   \n",
       "I dont know what to think about this product.               0.627704   \n",
       "its not bad but not good either.                            0.926736   \n",
       "\n",
       "                                                                     bart  \\\n",
       "This product was great! I absolutely loved it.      positive, Score: 0.99   \n",
       "Worst purchase I have made. Completely disappoi...  negative, Score: 0.99   \n",
       "Okay product, but would not buy again.               neutral, Score: 0.56   \n",
       "I dont know what to think about this product.       negative, Score: 0.59   \n",
       "its not bad but not good either.                     neutral, Score: 0.89   \n",
       "\n",
       "                                                   bart_label  bart_score  \\\n",
       "This product was great! I absolutely loved it.       positive    0.991707   \n",
       "Worst purchase I have made. Completely disappoi...   negative    0.993895   \n",
       "Okay product, but would not buy again.                neutral    0.558144   \n",
       "I dont know what to think about this product.        negative    0.590069   \n",
       "its not bad but not good either.                      neutral    0.892206   \n",
       "\n",
       "                                                                  roberta  \\\n",
       "This product was great! I absolutely loved it.      positive, Score: 0.98   \n",
       "Worst purchase I have made. Completely disappoi...  negative, Score: 0.98   \n",
       "Okay product, but would not buy again.              negative, Score: 0.74   \n",
       "I dont know what to think about this product.        neutral, Score: 0.52   \n",
       "its not bad but not good either.                     neutral, Score: 0.54   \n",
       "\n",
       "                                                   roberta_label  \\\n",
       "This product was great! I absolutely loved it.          positive   \n",
       "Worst purchase I have made. Completely disappoi...      negative   \n",
       "Okay product, but would not buy again.                  negative   \n",
       "I dont know what to think about this product.            neutral   \n",
       "its not bad but not good either.                         neutral   \n",
       "\n",
       "                                                    roberta_score true_label  \n",
       "This product was great! I absolutely loved it.           0.983558   positive  \n",
       "Worst purchase I have made. Completely disappoi...       0.982688   negative  \n",
       "Okay product, but would not buy again.                   0.739806    neutral  \n",
       "I dont know what to think about this product.            0.520079    neutral  \n",
       "its not bad but not good either.                         0.536360    neutral  "
      ]
     },
     "execution_count": 19,
     "metadata": {},
     "output_type": "execute_result"
    }
   ],
   "source": [
    "df_results.head()"
   ]
  },
  {
   "cell_type": "code",
   "execution_count": 23,
   "metadata": {},
   "outputs": [
    {
     "ename": "TypeError",
     "evalue": "can only concatenate str (not \"float\") to str",
     "output_type": "error",
     "traceback": [
      "\u001b[1;31m---------------------------------------------------------------------------\u001b[0m",
      "\u001b[1;31mTypeError\u001b[0m                                 Traceback (most recent call last)",
      "File \u001b[1;32m~\\AppData\\Local\\Packages\\PythonSoftwareFoundation.Python.3.10_qbz5n2kfra8p0\\LocalCache\\local-packages\\Python310\\site-packages\\pandas\\core\\ops\\array_ops.py:165\u001b[0m, in \u001b[0;36m_na_arithmetic_op\u001b[1;34m(left, right, op, is_cmp)\u001b[0m\n\u001b[0;32m    164\u001b[0m \u001b[38;5;28;01mtry\u001b[39;00m:\n\u001b[1;32m--> 165\u001b[0m     result \u001b[38;5;241m=\u001b[39m \u001b[43mfunc\u001b[49m\u001b[43m(\u001b[49m\u001b[43mleft\u001b[49m\u001b[43m,\u001b[49m\u001b[43m \u001b[49m\u001b[43mright\u001b[49m\u001b[43m)\u001b[49m\n\u001b[0;32m    166\u001b[0m \u001b[38;5;28;01mexcept\u001b[39;00m \u001b[38;5;167;01mTypeError\u001b[39;00m:\n",
      "File \u001b[1;32m~\\AppData\\Local\\Packages\\PythonSoftwareFoundation.Python.3.10_qbz5n2kfra8p0\\LocalCache\\local-packages\\Python310\\site-packages\\pandas\\core\\computation\\expressions.py:242\u001b[0m, in \u001b[0;36mevaluate\u001b[1;34m(op, a, b, use_numexpr)\u001b[0m\n\u001b[0;32m    240\u001b[0m     \u001b[38;5;28;01mif\u001b[39;00m use_numexpr:\n\u001b[0;32m    241\u001b[0m         \u001b[38;5;66;03m# error: \"None\" not callable\u001b[39;00m\n\u001b[1;32m--> 242\u001b[0m         \u001b[38;5;28;01mreturn\u001b[39;00m \u001b[43m_evaluate\u001b[49m\u001b[43m(\u001b[49m\u001b[43mop\u001b[49m\u001b[43m,\u001b[49m\u001b[43m \u001b[49m\u001b[43mop_str\u001b[49m\u001b[43m,\u001b[49m\u001b[43m \u001b[49m\u001b[43ma\u001b[49m\u001b[43m,\u001b[49m\u001b[43m \u001b[49m\u001b[43mb\u001b[49m\u001b[43m)\u001b[49m  \u001b[38;5;66;03m# type: ignore[misc]\u001b[39;00m\n\u001b[0;32m    243\u001b[0m \u001b[38;5;28;01mreturn\u001b[39;00m _evaluate_standard(op, op_str, a, b)\n",
      "File \u001b[1;32m~\\AppData\\Local\\Packages\\PythonSoftwareFoundation.Python.3.10_qbz5n2kfra8p0\\LocalCache\\local-packages\\Python310\\site-packages\\pandas\\core\\computation\\expressions.py:71\u001b[0m, in \u001b[0;36m_evaluate_standard\u001b[1;34m(op, op_str, a, b)\u001b[0m\n\u001b[0;32m     70\u001b[0m     _store_test_result(\u001b[38;5;28;01mFalse\u001b[39;00m)\n\u001b[1;32m---> 71\u001b[0m \u001b[38;5;28;01mreturn\u001b[39;00m \u001b[43mop\u001b[49m\u001b[43m(\u001b[49m\u001b[43ma\u001b[49m\u001b[43m,\u001b[49m\u001b[43m \u001b[49m\u001b[43mb\u001b[49m\u001b[43m)\u001b[49m\n",
      "\u001b[1;31mTypeError\u001b[0m: can only concatenate str (not \"float\") to str",
      "\nDuring handling of the above exception, another exception occurred:\n",
      "\u001b[1;31mTypeError\u001b[0m                                 Traceback (most recent call last)",
      "Cell \u001b[1;32mIn[23], line 18\u001b[0m\n\u001b[0;32m     16\u001b[0m \u001b[38;5;28;01mfor\u001b[39;00m i, model \u001b[38;5;129;01min\u001b[39;00m \u001b[38;5;28menumerate\u001b[39m(models):\n\u001b[0;32m     17\u001b[0m     plt\u001b[38;5;241m.\u001b[39mbar(index, df_results[\u001b[38;5;124mf\u001b[39m\u001b[38;5;124m'\u001b[39m\u001b[38;5;132;01m{\u001b[39;00mmodel\u001b[38;5;132;01m}\u001b[39;00m\u001b[38;5;124m_score\u001b[39m\u001b[38;5;124m'\u001b[39m], width\u001b[38;5;241m=\u001b[39mbar_width, label\u001b[38;5;241m=\u001b[39mmodel, color\u001b[38;5;241m=\u001b[39mcolors[i])\n\u001b[1;32m---> 18\u001b[0m     index \u001b[38;5;241m=\u001b[39m \u001b[43mindex\u001b[49m\u001b[43m \u001b[49m\u001b[38;5;241;43m+\u001b[39;49m\u001b[43m \u001b[49m\u001b[43mbar_width\u001b[49m\n\u001b[0;32m     20\u001b[0m plt\u001b[38;5;241m.\u001b[39mxlabel(\u001b[38;5;124m'\u001b[39m\u001b[38;5;124mStatements\u001b[39m\u001b[38;5;124m'\u001b[39m)\n\u001b[0;32m     21\u001b[0m plt\u001b[38;5;241m.\u001b[39mylabel(\u001b[38;5;124m'\u001b[39m\u001b[38;5;124mConfidence Score\u001b[39m\u001b[38;5;124m'\u001b[39m)\n",
      "File \u001b[1;32m~\\AppData\\Local\\Packages\\PythonSoftwareFoundation.Python.3.10_qbz5n2kfra8p0\\LocalCache\\local-packages\\Python310\\site-packages\\pandas\\core\\ops\\common.py:72\u001b[0m, in \u001b[0;36m_unpack_zerodim_and_defer.<locals>.new_method\u001b[1;34m(self, other)\u001b[0m\n\u001b[0;32m     68\u001b[0m             \u001b[38;5;28;01mreturn\u001b[39;00m \u001b[38;5;28mNotImplemented\u001b[39m\n\u001b[0;32m     70\u001b[0m other \u001b[38;5;241m=\u001b[39m item_from_zerodim(other)\n\u001b[1;32m---> 72\u001b[0m \u001b[38;5;28;01mreturn\u001b[39;00m \u001b[43mmethod\u001b[49m\u001b[43m(\u001b[49m\u001b[38;5;28;43mself\u001b[39;49m\u001b[43m,\u001b[49m\u001b[43m \u001b[49m\u001b[43mother\u001b[49m\u001b[43m)\u001b[49m\n",
      "File \u001b[1;32m~\\AppData\\Local\\Packages\\PythonSoftwareFoundation.Python.3.10_qbz5n2kfra8p0\\LocalCache\\local-packages\\Python310\\site-packages\\pandas\\core\\arraylike.py:103\u001b[0m, in \u001b[0;36mOpsMixin.__add__\u001b[1;34m(self, other)\u001b[0m\n\u001b[0;32m    101\u001b[0m \u001b[38;5;129m@unpack_zerodim_and_defer\u001b[39m(\u001b[38;5;124m\"\u001b[39m\u001b[38;5;124m__add__\u001b[39m\u001b[38;5;124m\"\u001b[39m)\n\u001b[0;32m    102\u001b[0m \u001b[38;5;28;01mdef\u001b[39;00m \u001b[38;5;21m__add__\u001b[39m(\u001b[38;5;28mself\u001b[39m, other):\n\u001b[1;32m--> 103\u001b[0m     \u001b[38;5;28;01mreturn\u001b[39;00m \u001b[38;5;28;43mself\u001b[39;49m\u001b[38;5;241;43m.\u001b[39;49m\u001b[43m_arith_method\u001b[49m\u001b[43m(\u001b[49m\u001b[43mother\u001b[49m\u001b[43m,\u001b[49m\u001b[43m \u001b[49m\u001b[43moperator\u001b[49m\u001b[38;5;241;43m.\u001b[39;49m\u001b[43madd\u001b[49m\u001b[43m)\u001b[49m\n",
      "File \u001b[1;32m~\\AppData\\Local\\Packages\\PythonSoftwareFoundation.Python.3.10_qbz5n2kfra8p0\\LocalCache\\local-packages\\Python310\\site-packages\\pandas\\core\\indexes\\base.py:7045\u001b[0m, in \u001b[0;36mIndex._arith_method\u001b[1;34m(self, other, op)\u001b[0m\n\u001b[0;32m   7035\u001b[0m \u001b[38;5;28;01mif\u001b[39;00m (\n\u001b[0;32m   7036\u001b[0m     \u001b[38;5;28misinstance\u001b[39m(other, Index)\n\u001b[0;32m   7037\u001b[0m     \u001b[38;5;129;01mand\u001b[39;00m is_object_dtype(other\u001b[38;5;241m.\u001b[39mdtype)\n\u001b[1;32m   (...)\u001b[0m\n\u001b[0;32m   7041\u001b[0m     \u001b[38;5;66;03m# a chance to implement ops before we unwrap them.\u001b[39;00m\n\u001b[0;32m   7042\u001b[0m     \u001b[38;5;66;03m# See https://github.com/pandas-dev/pandas/issues/31109\u001b[39;00m\n\u001b[0;32m   7043\u001b[0m     \u001b[38;5;28;01mreturn\u001b[39;00m \u001b[38;5;28mNotImplemented\u001b[39m\n\u001b[1;32m-> 7045\u001b[0m \u001b[38;5;28;01mreturn\u001b[39;00m \u001b[38;5;28;43msuper\u001b[39;49m\u001b[43m(\u001b[49m\u001b[43m)\u001b[49m\u001b[38;5;241;43m.\u001b[39;49m\u001b[43m_arith_method\u001b[49m\u001b[43m(\u001b[49m\u001b[43mother\u001b[49m\u001b[43m,\u001b[49m\u001b[43m \u001b[49m\u001b[43mop\u001b[49m\u001b[43m)\u001b[49m\n",
      "File \u001b[1;32m~\\AppData\\Local\\Packages\\PythonSoftwareFoundation.Python.3.10_qbz5n2kfra8p0\\LocalCache\\local-packages\\Python310\\site-packages\\pandas\\core\\base.py:1325\u001b[0m, in \u001b[0;36mIndexOpsMixin._arith_method\u001b[1;34m(self, other, op)\u001b[0m\n\u001b[0;32m   1322\u001b[0m rvalues \u001b[38;5;241m=\u001b[39m ensure_wrapped_if_datetimelike(rvalues)\n\u001b[0;32m   1324\u001b[0m \u001b[38;5;28;01mwith\u001b[39;00m np\u001b[38;5;241m.\u001b[39merrstate(\u001b[38;5;28mall\u001b[39m\u001b[38;5;241m=\u001b[39m\u001b[38;5;124m\"\u001b[39m\u001b[38;5;124mignore\u001b[39m\u001b[38;5;124m\"\u001b[39m):\n\u001b[1;32m-> 1325\u001b[0m     result \u001b[38;5;241m=\u001b[39m \u001b[43mops\u001b[49m\u001b[38;5;241;43m.\u001b[39;49m\u001b[43marithmetic_op\u001b[49m\u001b[43m(\u001b[49m\u001b[43mlvalues\u001b[49m\u001b[43m,\u001b[49m\u001b[43m \u001b[49m\u001b[43mrvalues\u001b[49m\u001b[43m,\u001b[49m\u001b[43m \u001b[49m\u001b[43mop\u001b[49m\u001b[43m)\u001b[49m\n\u001b[0;32m   1327\u001b[0m \u001b[38;5;28;01mreturn\u001b[39;00m \u001b[38;5;28mself\u001b[39m\u001b[38;5;241m.\u001b[39m_construct_result(result, name\u001b[38;5;241m=\u001b[39mres_name)\n",
      "File \u001b[1;32m~\\AppData\\Local\\Packages\\PythonSoftwareFoundation.Python.3.10_qbz5n2kfra8p0\\LocalCache\\local-packages\\Python310\\site-packages\\pandas\\core\\ops\\array_ops.py:226\u001b[0m, in \u001b[0;36marithmetic_op\u001b[1;34m(left, right, op)\u001b[0m\n\u001b[0;32m    222\u001b[0m     _bool_arith_check(op, left, right)\n\u001b[0;32m    224\u001b[0m     \u001b[38;5;66;03m# error: Argument 1 to \"_na_arithmetic_op\" has incompatible type\u001b[39;00m\n\u001b[0;32m    225\u001b[0m     \u001b[38;5;66;03m# \"Union[ExtensionArray, ndarray[Any, Any]]\"; expected \"ndarray[Any, Any]\"\u001b[39;00m\n\u001b[1;32m--> 226\u001b[0m     res_values \u001b[38;5;241m=\u001b[39m \u001b[43m_na_arithmetic_op\u001b[49m\u001b[43m(\u001b[49m\u001b[43mleft\u001b[49m\u001b[43m,\u001b[49m\u001b[43m \u001b[49m\u001b[43mright\u001b[49m\u001b[43m,\u001b[49m\u001b[43m \u001b[49m\u001b[43mop\u001b[49m\u001b[43m)\u001b[49m  \u001b[38;5;66;03m# type: ignore[arg-type]\u001b[39;00m\n\u001b[0;32m    228\u001b[0m \u001b[38;5;28;01mreturn\u001b[39;00m res_values\n",
      "File \u001b[1;32m~\\AppData\\Local\\Packages\\PythonSoftwareFoundation.Python.3.10_qbz5n2kfra8p0\\LocalCache\\local-packages\\Python310\\site-packages\\pandas\\core\\ops\\array_ops.py:172\u001b[0m, in \u001b[0;36m_na_arithmetic_op\u001b[1;34m(left, right, op, is_cmp)\u001b[0m\n\u001b[0;32m    166\u001b[0m \u001b[38;5;28;01mexcept\u001b[39;00m \u001b[38;5;167;01mTypeError\u001b[39;00m:\n\u001b[0;32m    167\u001b[0m     \u001b[38;5;28;01mif\u001b[39;00m \u001b[38;5;129;01mnot\u001b[39;00m is_cmp \u001b[38;5;129;01mand\u001b[39;00m (is_object_dtype(left\u001b[38;5;241m.\u001b[39mdtype) \u001b[38;5;129;01mor\u001b[39;00m is_object_dtype(right)):\n\u001b[0;32m    168\u001b[0m         \u001b[38;5;66;03m# For object dtype, fallback to a masked operation (only operating\u001b[39;00m\n\u001b[0;32m    169\u001b[0m         \u001b[38;5;66;03m#  on the non-missing values)\u001b[39;00m\n\u001b[0;32m    170\u001b[0m         \u001b[38;5;66;03m# Don't do this for comparisons, as that will handle complex numbers\u001b[39;00m\n\u001b[0;32m    171\u001b[0m         \u001b[38;5;66;03m#  incorrectly, see GH#32047\u001b[39;00m\n\u001b[1;32m--> 172\u001b[0m         result \u001b[38;5;241m=\u001b[39m \u001b[43m_masked_arith_op\u001b[49m\u001b[43m(\u001b[49m\u001b[43mleft\u001b[49m\u001b[43m,\u001b[49m\u001b[43m \u001b[49m\u001b[43mright\u001b[49m\u001b[43m,\u001b[49m\u001b[43m \u001b[49m\u001b[43mop\u001b[49m\u001b[43m)\u001b[49m\n\u001b[0;32m    173\u001b[0m     \u001b[38;5;28;01melse\u001b[39;00m:\n\u001b[0;32m    174\u001b[0m         \u001b[38;5;28;01mraise\u001b[39;00m\n",
      "File \u001b[1;32m~\\AppData\\Local\\Packages\\PythonSoftwareFoundation.Python.3.10_qbz5n2kfra8p0\\LocalCache\\local-packages\\Python310\\site-packages\\pandas\\core\\ops\\array_ops.py:129\u001b[0m, in \u001b[0;36m_masked_arith_op\u001b[1;34m(x, y, op)\u001b[0m\n\u001b[0;32m    126\u001b[0m         mask \u001b[38;5;241m=\u001b[39m np\u001b[38;5;241m.\u001b[39mwhere(y \u001b[38;5;241m==\u001b[39m \u001b[38;5;241m1\u001b[39m, \u001b[38;5;28;01mFalse\u001b[39;00m, mask)\n\u001b[0;32m    128\u001b[0m     \u001b[38;5;28;01mif\u001b[39;00m mask\u001b[38;5;241m.\u001b[39many():\n\u001b[1;32m--> 129\u001b[0m         result[mask] \u001b[38;5;241m=\u001b[39m \u001b[43mop\u001b[49m\u001b[43m(\u001b[49m\u001b[43mxrav\u001b[49m\u001b[43m[\u001b[49m\u001b[43mmask\u001b[49m\u001b[43m]\u001b[49m\u001b[43m,\u001b[49m\u001b[43m \u001b[49m\u001b[43my\u001b[49m\u001b[43m)\u001b[49m\n\u001b[0;32m    131\u001b[0m np\u001b[38;5;241m.\u001b[39mputmask(result, \u001b[38;5;241m~\u001b[39mmask, np\u001b[38;5;241m.\u001b[39mnan)\n\u001b[0;32m    132\u001b[0m result \u001b[38;5;241m=\u001b[39m result\u001b[38;5;241m.\u001b[39mreshape(x\u001b[38;5;241m.\u001b[39mshape)  \u001b[38;5;66;03m# 2D compat\u001b[39;00m\n",
      "\u001b[1;31mTypeError\u001b[0m: can only concatenate str (not \"float\") to str"
     ]
    },
    {
     "data": {
      "image/png": "[encoded data removed]",
      "text/plain": [
       "<Figure size 1000x600 with 1 Axes>"
      ]
     },
     "metadata": {},
     "output_type": "display_data"
    }
   ],
   "source": [
    "import pandas as pd\n",
    "import matplotlib.pyplot as plt\n",
    "\n",
    "# Assuming df_results is already defined with your data\n",
    "# Display the DataFrame to ensure it's correctly loaded\n",
    "df_results.head()\n",
    "\n",
    "# Plotting\n",
    "plt.figure(figsize=(10, 6))\n",
    "\n",
    "models = ['distilbert', 'bart', 'roberta']\n",
    "colors = ['blue', 'green', 'purple']\n",
    "bar_width = 0.25\n",
    "index = df_results.index\n",
    "\n",
    "for i, model in enumerate(models):\n",
    "    plt.bar(index, df_results[f'{model}_score'], width=bar_width, label=model, color=colors[i])\n",
    "    index = index + bar_width\n",
    "\n",
    "plt.xlabel('Statements')\n",
    "plt.ylabel('Confidence Score')\n",
    "plt.title('Model Predictions for Sentiment Analysis')\n",
    "plt.xticks(rotation=15, ha='right', labels=df_results.index)\n",
    "plt.legend()\n",
    "\n",
    "plt.tight_layout()\n",
    "plt.show()\n"
   ]
  }
 ],
 "metadata": {
  "kernelspec": {
   "display_name": "Python 3",
   "language": "python",
   "name": "python3"
  },
  "language_info": {
   "codemirror_mode": {
    "name": "ipython",
    "version": 3
   },
   "file_extension": ".py",
   "mimetype": "text/x-python",
   "name": "python",
   "nbconvert_exporter": "python",
   "pygments_lexer": "ipython3",
   "version": "3.10.11"
  }
 },
 "nbformat": 4,
 "nbformat_minor": 2
}
