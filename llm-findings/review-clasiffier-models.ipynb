{
 "cells": [
  {
   "cell_type": "markdown",
   "metadata": {},
   "source": [
    "# Classify Reviews With Large Language Models\n",
    "In this notebook I will be using several pre-trained Large Language Models to classify if a review is positive, neutral or negative.\n",
    "I will also compare which one classifies best."
   ]
  },
  {
   "cell_type": "markdown",
   "metadata": {},
   "source": [
    "## Preperation"
   ]
  },
  {
   "cell_type": "markdown",
   "metadata": {},
   "source": [
    "Install and import libraries. </br>\n",
    "Transformers for using the pipeline, a feature of Huggingface which allows me to easily setup and use pre-trained models from one pipeline. This is also nice to switch between models. </br>\n",
    "Pandas to put results/values in dataframes"
   ]
  },
  {
   "cell_type": "code",
   "execution_count": 9,
   "metadata": {},
   "outputs": [
    {
     "name": "stdout",
     "output_type": "stream",
     "text": [
      "Requirement already satisfied: matplotlib in c:\\users\\alpay\\appdata\\local\\packages\\pythonsoftwarefoundation.python.3.10_qbz5n2kfra8p0\\localcache\\local-packages\\python310\\site-packages (from -r requirements.txt (line 1)) (3.8.3)\n",
      "Requirement already satisfied: transformers in c:\\users\\alpay\\appdata\\local\\packages\\pythonsoftwarefoundation.python.3.10_qbz5n2kfra8p0\\localcache\\local-packages\\python310\\site-packages (from -r requirements.txt (line 2)) (4.41.2)\n",
      "Requirement already satisfied: pandas in c:\\users\\alpay\\appdata\\local\\packages\\pythonsoftwarefoundation.python.3.10_qbz5n2kfra8p0\\localcache\\local-packages\\python310\\site-packages (from -r requirements.txt (line 3)) (1.5.0)\n",
      "Requirement already satisfied: contourpy>=1.0.1 in c:\\users\\alpay\\appdata\\local\\packages\\pythonsoftwarefoundation.python.3.10_qbz5n2kfra8p0\\localcache\\local-packages\\python310\\site-packages (from matplotlib->-r requirements.txt (line 1)) (1.2.0)\n",
      "Requirement already satisfied: cycler>=0.10 in c:\\users\\alpay\\appdata\\local\\packages\\pythonsoftwarefoundation.python.3.10_qbz5n2kfra8p0\\localcache\\local-packages\\python310\\site-packages (from matplotlib->-r requirements.txt (line 1)) (0.12.1)\n",
      "Requirement already satisfied: fonttools>=4.22.0 in c:\\users\\alpay\\appdata\\local\\packages\\pythonsoftwarefoundation.python.3.10_qbz5n2kfra8p0\\localcache\\local-packages\\python310\\site-packages (from matplotlib->-r requirements.txt (line 1)) (4.49.0)\n",
      "Requirement already satisfied: kiwisolver>=1.3.1 in c:\\users\\alpay\\appdata\\local\\packages\\pythonsoftwarefoundation.python.3.10_qbz5n2kfra8p0\\localcache\\local-packages\\python310\\site-packages (from matplotlib->-r requirements.txt (line 1)) (1.4.5)\n",
      "Requirement already satisfied: numpy<2,>=1.21 in c:\\users\\alpay\\appdata\\local\\packages\\pythonsoftwarefoundation.python.3.10_qbz5n2kfra8p0\\localcache\\local-packages\\python310\\site-packages (from matplotlib->-r requirements.txt (line 1)) (1.26.4)\n",
      "Requirement already satisfied: packaging>=20.0 in c:\\users\\alpay\\appdata\\local\\packages\\pythonsoftwarefoundation.python.3.10_qbz5n2kfra8p0\\localcache\\local-packages\\python310\\site-packages (from matplotlib->-r requirements.txt (line 1)) (23.2)\n",
      "Requirement already satisfied: pillow>=8 in c:\\users\\alpay\\appdata\\local\\packages\\pythonsoftwarefoundation.python.3.10_qbz5n2kfra8p0\\localcache\\local-packages\\python310\\site-packages (from matplotlib->-r requirements.txt (line 1)) (10.3.0)\n",
      "Requirement already satisfied: pyparsing>=2.3.1 in c:\\users\\alpay\\appdata\\local\\packages\\pythonsoftwarefoundation.python.3.10_qbz5n2kfra8p0\\localcache\\local-packages\\python310\\site-packages (from matplotlib->-r requirements.txt (line 1)) (3.1.1)\n",
      "Requirement already satisfied: python-dateutil>=2.7 in c:\\users\\alpay\\appdata\\local\\packages\\pythonsoftwarefoundation.python.3.10_qbz5n2kfra8p0\\localcache\\local-packages\\python310\\site-packages (from matplotlib->-r requirements.txt (line 1)) (2.8.2)\n",
      "Requirement already satisfied: filelock in c:\\users\\alpay\\appdata\\local\\packages\\pythonsoftwarefoundation.python.3.10_qbz5n2kfra8p0\\localcache\\local-packages\\python310\\site-packages (from transformers->-r requirements.txt (line 2)) (3.8.0)\n",
      "Requirement already satisfied: huggingface-hub<1.0,>=0.23.0 in c:\\users\\alpay\\appdata\\local\\packages\\pythonsoftwarefoundation.python.3.10_qbz5n2kfra8p0\\localcache\\local-packages\\python310\\site-packages (from transformers->-r requirements.txt (line 2)) (0.23.4)\n",
      "Requirement already satisfied: pyyaml>=5.1 in c:\\users\\alpay\\appdata\\local\\packages\\pythonsoftwarefoundation.python.3.10_qbz5n2kfra8p0\\localcache\\local-packages\\python310\\site-packages (from transformers->-r requirements.txt (line 2)) (6.0)\n",
      "Requirement already satisfied: regex!=2019.12.17 in c:\\users\\alpay\\appdata\\local\\packages\\pythonsoftwarefoundation.python.3.10_qbz5n2kfra8p0\\localcache\\local-packages\\python310\\site-packages (from transformers->-r requirements.txt (line 2)) (2024.5.15)\n",
      "Requirement already satisfied: requests in c:\\users\\alpay\\appdata\\local\\packages\\pythonsoftwarefoundation.python.3.10_qbz5n2kfra8p0\\localcache\\local-packages\\python310\\site-packages (from transformers->-r requirements.txt (line 2)) (2.31.0)\n",
      "Requirement already satisfied: tokenizers<0.20,>=0.19 in c:\\users\\alpay\\appdata\\local\\packages\\pythonsoftwarefoundation.python.3.10_qbz5n2kfra8p0\\localcache\\local-packages\\python310\\site-packages (from transformers->-r requirements.txt (line 2)) (0.19.1)\n",
      "Requirement already satisfied: safetensors>=0.4.1 in c:\\users\\alpay\\appdata\\local\\packages\\pythonsoftwarefoundation.python.3.10_qbz5n2kfra8p0\\localcache\\local-packages\\python310\\site-packages (from transformers->-r requirements.txt (line 2)) (0.4.3)\n",
      "Requirement already satisfied: tqdm>=4.27 in c:\\users\\alpay\\appdata\\local\\packages\\pythonsoftwarefoundation.python.3.10_qbz5n2kfra8p0\\localcache\\local-packages\\python310\\site-packages (from transformers->-r requirements.txt (line 2)) (4.66.2)\n",
      "Requirement already satisfied: pytz>=2020.1 in c:\\users\\alpay\\appdata\\local\\packages\\pythonsoftwarefoundation.python.3.10_qbz5n2kfra8p0\\localcache\\local-packages\\python310\\site-packages (from pandas->-r requirements.txt (line 3)) (2022.4)\n",
      "Requirement already satisfied: fsspec>=2023.5.0 in c:\\users\\alpay\\appdata\\local\\packages\\pythonsoftwarefoundation.python.3.10_qbz5n2kfra8p0\\localcache\\local-packages\\python310\\site-packages (from huggingface-hub<1.0,>=0.23.0->transformers->-r requirements.txt (line 2)) (2024.3.1)\n",
      "Requirement already satisfied: typing-extensions>=3.7.4.3 in c:\\users\\alpay\\appdata\\local\\packages\\pythonsoftwarefoundation.python.3.10_qbz5n2kfra8p0\\localcache\\local-packages\\python310\\site-packages (from huggingface-hub<1.0,>=0.23.0->transformers->-r requirements.txt (line 2)) (4.9.0)\n",
      "Requirement already satisfied: six>=1.5 in c:\\users\\alpay\\appdata\\local\\packages\\pythonsoftwarefoundation.python.3.10_qbz5n2kfra8p0\\localcache\\local-packages\\python310\\site-packages (from python-dateutil>=2.7->matplotlib->-r requirements.txt (line 1)) (1.16.0)\n",
      "Requirement already satisfied: colorama in c:\\users\\alpay\\appdata\\local\\packages\\pythonsoftwarefoundation.python.3.10_qbz5n2kfra8p0\\localcache\\local-packages\\python310\\site-packages (from tqdm>=4.27->transformers->-r requirements.txt (line 2)) (0.4.5)\n",
      "Requirement already satisfied: charset-normalizer<4,>=2 in c:\\users\\alpay\\appdata\\local\\packages\\pythonsoftwarefoundation.python.3.10_qbz5n2kfra8p0\\localcache\\local-packages\\python310\\site-packages (from requests->transformers->-r requirements.txt (line 2)) (2.1.1)\n",
      "Requirement already satisfied: idna<4,>=2.5 in c:\\users\\alpay\\appdata\\local\\packages\\pythonsoftwarefoundation.python.3.10_qbz5n2kfra8p0\\localcache\\local-packages\\python310\\site-packages (from requests->transformers->-r requirements.txt (line 2)) (3.4)\n",
      "Requirement already satisfied: urllib3<3,>=1.21.1 in c:\\users\\alpay\\appdata\\local\\packages\\pythonsoftwarefoundation.python.3.10_qbz5n2kfra8p0\\localcache\\local-packages\\python310\\site-packages (from requests->transformers->-r requirements.txt (line 2)) (1.26.12)\n",
      "Requirement already satisfied: certifi>=2017.4.17 in c:\\users\\alpay\\appdata\\local\\packages\\pythonsoftwarefoundation.python.3.10_qbz5n2kfra8p0\\localcache\\local-packages\\python310\\site-packages (from requests->transformers->-r requirements.txt (line 2)) (2022.9.24)\n"
     ]
    },
    {
     "name": "stderr",
     "output_type": "stream",
     "text": [
      "\n",
      "[notice] A new release of pip is available: 24.0 -> 24.1\n",
      "[notice] To update, run: C:\\Users\\alpay\\AppData\\Local\\Microsoft\\WindowsApps\\PythonSoftwareFoundation.Python.3.10_qbz5n2kfra8p0\\python.exe -m pip install --upgrade pip\n"
     ]
    }
   ],
   "source": [
    "!pip install -r requirements.txt"
   ]
  },
  {
   "cell_type": "code",
   "execution_count": 1,
   "metadata": {},
   "outputs": [
    {
     "name": "stderr",
     "output_type": "stream",
     "text": [
      "C:\\Users\\alpay\\AppData\\Local\\Packages\\PythonSoftwareFoundation.Python.3.10_qbz5n2kfra8p0\\LocalCache\\local-packages\\Python310\\site-packages\\tqdm\\auto.py:21: TqdmWarning: IProgress not found. Please update jupyter and ipywidgets. See https://ipywidgets.readthedocs.io/en/stable/user_install.html\n",
      "  from .autonotebook import tqdm as notebook_tqdm\n"
     ]
    }
   ],
   "source": [
    "from transformers import pipeline\n",
    "import pandas as pd\n",
    "import matplotlib.pyplot as plt"
   ]
  },
  {
   "cell_type": "markdown",
   "metadata": {},
   "source": [
    "### Define models, pipelines, reviews and labels\n",
    "**Models:** I am using DistilBERT, BART and RoBERTa <br>\n",
    "**Reviews:** I made a few reviews from which some are easy to classify and some are harder, like \"I dont know what to think about this\" to see what the model desicions the model will make. <br>\n",
    "**Labels:** I am using 3 labels. Positive, Negative and Neutral. <br>"
   ]
  },
  {
   "cell_type": "code",
   "execution_count": 2,
   "metadata": {},
   "outputs": [
    {
     "name": "stderr",
     "output_type": "stream",
     "text": [
      "The `xla_device` argument has been deprecated in v4.4.0 of Transformers. It is ignored and you can safely remove it from your `config.json` file.\n"
     ]
    },
    {
     "name": "stdout",
     "output_type": "stream",
     "text": [
      "WARNING:tensorflow:From C:\\Users\\alpay\\AppData\\Local\\Packages\\PythonSoftwareFoundation.Python.3.10_qbz5n2kfra8p0\\LocalCache\\local-packages\\Python310\\site-packages\\tf_keras\\src\\losses.py:2976: The name tf.losses.sparse_softmax_cross_entropy is deprecated. Please use tf.compat.v1.losses.sparse_softmax_cross_entropy instead.\n",
      "\n"
     ]
    },
    {
     "name": "stderr",
     "output_type": "stream",
     "text": [
      "The `xla_device` argument has been deprecated in v4.4.0 of Transformers. It is ignored and you can safely remove it from your `config.json` file.\n",
      "The `xla_device` argument has been deprecated in v4.4.0 of Transformers. It is ignored and you can safely remove it from your `config.json` file.\n",
      "The `xla_device` argument has been deprecated in v4.4.0 of Transformers. It is ignored and you can safely remove it from your `config.json` file.\n",
      "The `xla_device` argument has been deprecated in v4.4.0 of Transformers. It is ignored and you can safely remove it from your `config.json` file.\n",
      "Some weights of the model checkpoint at roberta-large-mnli were not used when initializing RobertaForSequenceClassification: ['roberta.pooler.dense.bias', 'roberta.pooler.dense.weight']\n",
      "- This IS expected if you are initializing RobertaForSequenceClassification from the checkpoint of a model trained on another task or with another architecture (e.g. initializing a BertForSequenceClassification model from a BertForPreTraining model).\n",
      "- This IS NOT expected if you are initializing RobertaForSequenceClassification from the checkpoint of a model that you expect to be exactly identical (initializing a BertForSequenceClassification model from a BertForSequenceClassification model).\n"
     ]
    }
   ],
   "source": [
    "# Initialize the pipelines for the three models\n",
    "models = {\n",
    "    \"distilbert\": \"typeform/distilbert-base-uncased-mnli\",\n",
    "    \"bart\": \"facebook/bart-large-mnli\",\n",
    "    \"roberta\": \"roberta-large-mnli\"\n",
    "}\n",
    "pipelines = {name: pipeline(\"zero-shot-classification\", model=model_name) for name, model_name in models.items()}\n",
    "\n",
    "# Define input data and labels\n",
    "reviews = [\n",
    "    [\"This product was great! I absolutely loved it.\", \"positive\"],\n",
    "    [\"Worst purchase I have made. Completely disappointed.\", \"negative\"],\n",
    "    [\"Okay product, but would not buy again.\", \"neutral\"],\n",
    "    [\"I dont know what to think about this product.\", \"neutral\"],\n",
    "    [\"its not bad but not good either.\", \"neutral\"]\n",
    "]\n",
    "labels = [\"positive\", \"negative\", \"neutral\"]"
   ]
  },
  {
   "cell_type": "markdown",
   "metadata": {},
   "source": [
    "## Use pre-trained models to classify"
   ]
  },
  {
   "cell_type": "markdown",
   "metadata": {},
   "source": [
    "Everything that was prepped before, is now going to be looped trough and runned. <br>\n",
    "The label and score (confident) will be stored so we can later evaluate."
   ]
  },
  {
   "cell_type": "code",
   "execution_count": 3,
   "metadata": {},
   "outputs": [
    {
     "name": "stdout",
     "output_type": "stream",
     "text": [
      "{'distilbert': ['positive, Score: 1.00', 'negative, Score: 0.99', 'positive, Score: 0.41', 'neutral, Score: 0.63', 'negative, Score: 0.93'], 'bart': ['positive, Score: 0.99', 'negative, Score: 0.99', 'neutral, Score: 0.56', 'negative, Score: 0.59', 'neutral, Score: 0.89'], 'roberta': ['positive, Score: 0.98', 'negative, Score: 0.98', 'negative, Score: 0.74', 'neutral, Score: 0.52', 'neutral, Score: 0.54']}\n"
     ]
    }
   ],
   "source": [
    "# Adjusted function to evaluate a model and include scores\n",
    "def evaluate_model(pipeline, reviews, labels):\n",
    "    results = []\n",
    "    for review_data in reviews:\n",
    "        review_text, _ = review_data  # Unpack the review text and ignore the label\n",
    "        result = pipeline(review_text, labels)\n",
    "        # Append both label and score for the top result\n",
    "        top_result = result['labels'][0]\n",
    "        top_score = result['scores'][0]\n",
    "        results.append(f\"{top_result}, Score: {top_score:.2f}\")\n",
    "    return results\n",
    "\n",
    "# Evaluate each model and include scores in the results\n",
    "model_results = {name: evaluate_model(pipeline, reviews, labels) for name, pipeline in pipelines.items()}\n",
    "\n",
    "print(model_results)"
   ]
  },
  {
   "cell_type": "markdown",
   "metadata": {},
   "source": [
    "Convert results to dataframe"
   ]
  },
  {
   "cell_type": "code",
   "execution_count": 4,
   "metadata": {},
   "outputs": [
    {
     "name": "stdout",
     "output_type": "stream",
     "text": [
      "                                                               distilbert  \\\n",
      "This product was great! I absolutely loved it.      positive, Score: 1.00   \n",
      "Worst purchase I have made. Completely disappoi...  negative, Score: 0.99   \n",
      "Okay product, but would not buy again.              positive, Score: 0.41   \n",
      "I dont know what to think about this product.        neutral, Score: 0.63   \n",
      "its not bad but not good either.                    negative, Score: 0.93   \n",
      "\n",
      "                                                                     bart  \\\n",
      "This product was great! I absolutely loved it.      positive, Score: 0.99   \n",
      "Worst purchase I have made. Completely disappoi...  negative, Score: 0.99   \n",
      "Okay product, but would not buy again.               neutral, Score: 0.56   \n",
      "I dont know what to think about this product.       negative, Score: 0.59   \n",
      "its not bad but not good either.                     neutral, Score: 0.89   \n",
      "\n",
      "                                                                  roberta  \\\n",
      "This product was great! I absolutely loved it.      positive, Score: 0.98   \n",
      "Worst purchase I have made. Completely disappoi...  negative, Score: 0.98   \n",
      "Okay product, but would not buy again.              negative, Score: 0.74   \n",
      "I dont know what to think about this product.        neutral, Score: 0.52   \n",
      "its not bad but not good either.                     neutral, Score: 0.54   \n",
      "\n",
      "                                                   true_label  \n",
      "This product was great! I absolutely loved it.       positive  \n",
      "Worst purchase I have made. Completely disappoi...   negative  \n",
      "Okay product, but would not buy again.                neutral  \n",
      "I dont know what to think about this product.         neutral  \n",
      "its not bad but not good either.                      neutral  \n"
     ]
    }
   ],
   "source": [
    "# Extract just the review texts from the reviews list of lists\n",
    "review_texts = [review[0] for review in reviews]\n",
    "\n",
    "# Convert the results to a DataFrame using review_texts as the index\n",
    "df_results = pd.DataFrame(model_results, index=review_texts)\n",
    "\n",
    "# Add the actual answers (true labels) to the DataFrame\n",
    "df_results['true_label'] = [review[1] for review in reviews]\n",
    "\n",
    "print(df_results)\n"
   ]
  },
  {
   "cell_type": "markdown",
   "metadata": {},
   "source": [
    "This method will evaluate also what the confidents of the models were on the other labels then what they classified, this helps with getting insight in how close a model was from classifying positive instead of neutral for example."
   ]
  },
  {
   "cell_type": "code",
   "execution_count": 5,
   "metadata": {},
   "outputs": [
    {
     "name": "stdout",
     "output_type": "stream",
     "text": [
      "{'distilbert': ['Review: \"This product was great! I absolutely loved it.\" - Predictions: positive, Score: 1.00; neutral, Score: 0.00; negative, Score: 0.00', 'Review: \"Worst purchase I have made. Completely disappointed.\" - Predictions: negative, Score: 0.99; neutral, Score: 0.00; positive, Score: 0.00', 'Review: \"Okay product, but would not buy again.\" - Predictions: positive, Score: 0.41; neutral, Score: 0.38; negative, Score: 0.21', 'Review: \"I dont know what to think about this product.\" - Predictions: neutral, Score: 0.63; negative, Score: 0.36; positive, Score: 0.01', 'Review: \"its not bad but not good either.\" - Predictions: negative, Score: 0.93; neutral, Score: 0.07; positive, Score: 0.01'], 'bart': ['Review: \"This product was great! I absolutely loved it.\" - Predictions: positive, Score: 0.99; neutral, Score: 0.01; negative, Score: 0.00', 'Review: \"Worst purchase I have made. Completely disappointed.\" - Predictions: negative, Score: 0.99; neutral, Score: 0.00; positive, Score: 0.00', 'Review: \"Okay product, but would not buy again.\" - Predictions: neutral, Score: 0.56; negative, Score: 0.22; positive, Score: 0.22', 'Review: \"I dont know what to think about this product.\" - Predictions: negative, Score: 0.59; neutral, Score: 0.39; positive, Score: 0.02', 'Review: \"its not bad but not good either.\" - Predictions: neutral, Score: 0.89; negative, Score: 0.06; positive, Score: 0.05'], 'roberta': ['Review: \"This product was great! I absolutely loved it.\" - Predictions: positive, Score: 0.98; neutral, Score: 0.01; negative, Score: 0.00', 'Review: \"Worst purchase I have made. Completely disappointed.\" - Predictions: negative, Score: 0.98; neutral, Score: 0.01; positive, Score: 0.01', 'Review: \"Okay product, but would not buy again.\" - Predictions: negative, Score: 0.74; neutral, Score: 0.19; positive, Score: 0.07', 'Review: \"I dont know what to think about this product.\" - Predictions: neutral, Score: 0.52; negative, Score: 0.36; positive, Score: 0.12', 'Review: \"its not bad but not good either.\" - Predictions: neutral, Score: 0.54; negative, Score: 0.39; positive, Score: 0.07']}\n"
     ]
    }
   ],
   "source": [
    "def evaluate_model(pipeline, reviews, labels):\n",
    "    results = []\n",
    "    for review_data in reviews:\n",
    "        review_text, _ = review_data  # Unpack the review text and ignore the label\n",
    "        result = pipeline(review_text, labels)\n",
    "        # Initialize a string with the review text to store results for the current review\n",
    "        review_results = f\"Review: \\\"{review_text}\\\" - Predictions: \"\n",
    "        for label, score in zip(result['labels'], result['scores']):\n",
    "            # Append each label and its score to the review_results string\n",
    "            review_results += f\"{label}, Score: {score:.2f}; \"\n",
    "        # Append the formatted string for the current review to the results list\n",
    "        results.append(review_results.strip(\"; \"))  # Remove the trailing semicolon and space\n",
    "    return results\n",
    "\n",
    "# Evaluate each model and include scores in the results\n",
    "model_results1 = {name: evaluate_model(pipeline, reviews, labels) for name, pipeline in pipelines.items()}\n",
    "\n",
    "print(model_results1)"
   ]
  },
  {
   "cell_type": "markdown",
   "metadata": {},
   "source": [
    "## Visualize"
   ]
  },
  {
   "cell_type": "markdown",
   "metadata": {},
   "source": [
    "To compare more clear, I am going to visualize the data with the dataframe that we made earlier."
   ]
  },
  {
   "cell_type": "code",
   "execution_count": 6,
   "metadata": {},
   "outputs": [],
   "source": [
    "# Adjusting the code to rename \"score\" to \"confidence\"\n",
    "df_results[['distilbert_prediction', 'distilbert_confidence']] = df_results['distilbert'].str.split(',', expand=True)\n",
    "df_results['distilbert_confidence'] = df_results['distilbert_confidence'].str.replace('Score: ', '').astype(float)\n",
    "\n",
    "df_results[['bart_prediction', 'bart_confidence']] = df_results['bart'].str.split(',', expand=True)\n",
    "df_results['bart_confidence'] = df_results['bart_confidence'].str.replace('Score: ', '').astype(float)\n",
    "\n",
    "df_results[['roberta_prediction', 'roberta_confidence']] = df_results['roberta'].str.split(',', expand=True)\n",
    "df_results['roberta_confidence'] = df_results['roberta_confidence'].str.replace('Score: ', '').astype(float)\n",
    "\n",
    "# Dropping the original columns to clean up the DataFrame\n",
    "df_results.drop(columns=['distilbert', 'bart', 'roberta'], inplace=True)\n",
    "\n"
   ]
  },
  {
   "cell_type": "code",
   "execution_count": 7,
   "metadata": {},
   "outputs": [
    {
     "data": {
      "text/html": [
       "<div>\n",
       "<style scoped>\n",
       "    .dataframe tbody tr th:only-of-type {\n",
       "        vertical-align: middle;\n",
       "    }\n",
       "\n",
       "    .dataframe tbody tr th {\n",
       "        vertical-align: top;\n",
       "    }\n",
       "\n",
       "    .dataframe thead th {\n",
       "        text-align: right;\n",
       "    }\n",
       "</style>\n",
       "<table border=\"1\" class=\"dataframe\">\n",
       "  <thead>\n",
       "    <tr style=\"text-align: right;\">\n",
       "      <th></th>\n",
       "      <th>true_label</th>\n",
       "      <th>distilbert_prediction</th>\n",
       "      <th>distilbert_confidence</th>\n",
       "      <th>bart_prediction</th>\n",
       "      <th>bart_confidence</th>\n",
       "      <th>roberta_prediction</th>\n",
       "      <th>roberta_confidence</th>\n",
       "    </tr>\n",
       "  </thead>\n",
       "  <tbody>\n",
       "    <tr>\n",
       "      <th>This product was great! I absolutely loved it.</th>\n",
       "      <td>positive</td>\n",
       "      <td>positive</td>\n",
       "      <td>1.00</td>\n",
       "      <td>positive</td>\n",
       "      <td>0.99</td>\n",
       "      <td>positive</td>\n",
       "      <td>0.98</td>\n",
       "    </tr>\n",
       "    <tr>\n",
       "      <th>Worst purchase I have made. Completely disappointed.</th>\n",
       "      <td>negative</td>\n",
       "      <td>negative</td>\n",
       "      <td>0.99</td>\n",
       "      <td>negative</td>\n",
       "      <td>0.99</td>\n",
       "      <td>negative</td>\n",
       "      <td>0.98</td>\n",
       "    </tr>\n",
       "    <tr>\n",
       "      <th>Okay product, but would not buy again.</th>\n",
       "      <td>neutral</td>\n",
       "      <td>positive</td>\n",
       "      <td>0.41</td>\n",
       "      <td>neutral</td>\n",
       "      <td>0.56</td>\n",
       "      <td>negative</td>\n",
       "      <td>0.74</td>\n",
       "    </tr>\n",
       "    <tr>\n",
       "      <th>I dont know what to think about this product.</th>\n",
       "      <td>neutral</td>\n",
       "      <td>neutral</td>\n",
       "      <td>0.63</td>\n",
       "      <td>negative</td>\n",
       "      <td>0.59</td>\n",
       "      <td>neutral</td>\n",
       "      <td>0.52</td>\n",
       "    </tr>\n",
       "    <tr>\n",
       "      <th>its not bad but not good either.</th>\n",
       "      <td>neutral</td>\n",
       "      <td>negative</td>\n",
       "      <td>0.93</td>\n",
       "      <td>neutral</td>\n",
       "      <td>0.89</td>\n",
       "      <td>neutral</td>\n",
       "      <td>0.54</td>\n",
       "    </tr>\n",
       "  </tbody>\n",
       "</table>\n",
       "</div>"
      ],
      "text/plain": [
       "                                                   true_label  \\\n",
       "This product was great! I absolutely loved it.       positive   \n",
       "Worst purchase I have made. Completely disappoi...   negative   \n",
       "Okay product, but would not buy again.                neutral   \n",
       "I dont know what to think about this product.         neutral   \n",
       "its not bad but not good either.                      neutral   \n",
       "\n",
       "                                                   distilbert_prediction  \\\n",
       "This product was great! I absolutely loved it.                  positive   \n",
       "Worst purchase I have made. Completely disappoi...              negative   \n",
       "Okay product, but would not buy again.                          positive   \n",
       "I dont know what to think about this product.                    neutral   \n",
       "its not bad but not good either.                                negative   \n",
       "\n",
       "                                                    distilbert_confidence  \\\n",
       "This product was great! I absolutely loved it.                       1.00   \n",
       "Worst purchase I have made. Completely disappoi...                   0.99   \n",
       "Okay product, but would not buy again.                               0.41   \n",
       "I dont know what to think about this product.                        0.63   \n",
       "its not bad but not good either.                                     0.93   \n",
       "\n",
       "                                                   bart_prediction  \\\n",
       "This product was great! I absolutely loved it.            positive   \n",
       "Worst purchase I have made. Completely disappoi...        negative   \n",
       "Okay product, but would not buy again.                     neutral   \n",
       "I dont know what to think about this product.             negative   \n",
       "its not bad but not good either.                           neutral   \n",
       "\n",
       "                                                    bart_confidence  \\\n",
       "This product was great! I absolutely loved it.                 0.99   \n",
       "Worst purchase I have made. Completely disappoi...             0.99   \n",
       "Okay product, but would not buy again.                         0.56   \n",
       "I dont know what to think about this product.                  0.59   \n",
       "its not bad but not good either.                               0.89   \n",
       "\n",
       "                                                   roberta_prediction  \\\n",
       "This product was great! I absolutely loved it.               positive   \n",
       "Worst purchase I have made. Completely disappoi...           negative   \n",
       "Okay product, but would not buy again.                       negative   \n",
       "I dont know what to think about this product.                 neutral   \n",
       "its not bad but not good either.                              neutral   \n",
       "\n",
       "                                                    roberta_confidence  \n",
       "This product was great! I absolutely loved it.                    0.98  \n",
       "Worst purchase I have made. Completely disappoi...                0.98  \n",
       "Okay product, but would not buy again.                            0.74  \n",
       "I dont know what to think about this product.                     0.52  \n",
       "its not bad but not good either.                                  0.54  "
      ]
     },
     "execution_count": 7,
     "metadata": {},
     "output_type": "execute_result"
    }
   ],
   "source": [
    "df_results.head()"
   ]
  },
  {
   "cell_type": "code",
   "execution_count": 8,
   "metadata": {},
   "outputs": [
    {
     "data": {
      "image/png": "[encoded data removed]",
      "text/plain": [
       "<Figure size 1000x600 with 1 Axes>"
      ]
     },
     "metadata": {},
     "output_type": "display_data"
    }
   ],
   "source": [
    "fig, ax = plt.subplots(figsize=(10, 6))\n",
    "\n",
    "# Review indices\n",
    "indices = range(len(df_results))\n",
    "\n",
    "# Plotting the true labels\n",
    "ax.scatter(indices, df_results['true_label'], color='black', label='True Label', marker='o', s=100)\n",
    "\n",
    "# Plotting the predictions from each model\n",
    "ax.scatter(indices, df_results['distilbert_prediction'], color='blue', label='DistilBERT Prediction', marker='x')\n",
    "ax.scatter(indices, df_results['bart_prediction'], color='red', label='BART Prediction', marker='s')\n",
    "ax.scatter(indices, df_results['roberta_prediction'], color='green', label='RoBERTa Prediction', marker='^')\n",
    "\n",
    "# Labels and legend\n",
    "ax.set_xticks(indices)\n",
    "ax.set_xticklabels([f'Review {i+1}' for i in indices])\n",
    "ax.set_ylabel('Sentiment')\n",
    "ax.set_title('Sentiment Analysis: True Labels vs Model Predictions')\n",
    "ax.legend()\n",
    "\n",
    "plt.grid(True)\n",
    "plt.show()"
   ]
  },
  {
   "cell_type": "markdown",
   "metadata": {},
   "source": [
    "# Evaluate"
   ]
  },
  {
   "cell_type": "markdown",
   "metadata": {},
   "source": [
    "## Reviews and True Labels:\n",
    "\n",
    "1. **Review 1:** \"This product was great! I absolutely loved it.\" - **True Label:** Positive\n",
    "2. **Review 2:** \"Worst purchase I have made. Completely disappointed.\" - **True Label:** Negative\n",
    "3. **Review 3:** \"Okay product, but would not buy again.\" - **True Label:** Neutral\n",
    "4. **Review 4:** \"I don't know what to think about this product.\" - **True Label:** Neutral\n",
    "5. **Review 5:** \"It's not bad but not good either.\" - **True Label:** Neutral\n",
    "\n",
    "## Model Predictions:\n",
    "\n",
    "### DistilBERT Predictions (Blue X):\n",
    "- **Review 1:** Positive (correct)\n",
    "- **Review 2:** Negative (correct)\n",
    "- **Review 3:** Positive (incorrect)\n",
    "- **Review 4:** Neutral (correct)\n",
    "- **Review 5:** Negative (incorrect)\n",
    "\n",
    "### BART Predictions (Red Square):\n",
    "- **Review 1:** Positive (correct)\n",
    "- **Review 2:** Negative (correct)\n",
    "- **Review 3:** Neutral (correct)\n",
    "- **Review 4:** Negative (incorrect)\n",
    "- **Review 5:** Neutral (correct)\n",
    "\n",
    "### RoBERTa Predictions (Green Triangle):\n",
    "- **Review 1:** Positive (correct)\n",
    "- **Review 2:** Negative (correct)\n",
    "- **Review 3:** Negative (incorrect)\n",
    "- **Review 4:** Neutral (correct)\n",
    "- **Review 5:** Neutral (correct)\n",
    "\n",
    "## Evaluation:\n",
    "\n",
    "### Review 1:\n",
    "All models correctly classified the review as positive.\n",
    "\n",
    "### Review 2:\n",
    "All models correctly classified the review as negative.\n",
    "\n",
    "### Review 3:\n",
    "- **BART:** correctly classified the review as neutral.\n",
    "- **RoBERTa:** incorrectly classified it as negative.\n",
    "- **DistilBERT:** incorrectly classified it as positive.\n",
    "\n",
    "### Review 4:\n",
    "- **BART:** incorrectly classified the review as negative.\n",
    "- **RoBERTa:** correctly classified it as neutral.\n",
    "- **DistilBERT:** correctly classified it as neutral.\n",
    "\n",
    "### Review 5:\n",
    "- **DistilBERT:** incorrectly classified the review as negative.\n",
    "- **BART:** correctly classified it as neutral.\n",
    "- **RoBERTa:** correctly classified it as neutral.\n",
    "\n",
    "## Conclusion:\n",
    "\n",
    "### DistilBERT:\n",
    "DistilBERT had issues with Reviews 3 and 5, misclassifying them as positive and negative respectively. It performed well on the other reviews but had some errors.\n",
    "\n",
    "### BART:\n",
    "BART correctly classified Reviews 1, 2, 3, and 5 but misclassified Review 4 as negative. This shows strong performance overall, with only one error.\n",
    "\n",
    "### RoBERTa:\n",
    "RoBERTa correctly classified Reviews 1, 2, 4, and 5 but misclassified Review 3 as negative. Similar to BART, it shows strong performance with one misclassification.\n"
   ]
  },
  {
   "cell_type": "markdown",
   "metadata": {},
   "source": [
    "## Struggles with Neutral Reviews:\n",
    "The models showed varying degrees of difficulty in handling neutral reviews, which often lack clear positive or negative cases. These reviews are harder to classify, making them challenging for sentiment analysis models to classify correctly. Here's how each model struggled with neutral reviews:\n",
    "\n",
    "### DistilBERT:\n",
    "DistilBERT struggled the most with neutral reviews, incorrectly classifying Review 3 as positive and Review 5 as negative. This indicates that DistilBERT might have a bias towards more definitive sentiments, leading to misclassification when the sentiment is unclear.\n",
    "\n",
    "### BART:\n",
    "BART had a mixed performance with neutral reviews. It correctly classified Review 3 and 5 but incorrectly classified Review 4 as negative. This suggests that while BART generally handles neutral reviews well, it can still misinterpret ambiguous sentiments.\n",
    "\n",
    "### RoBERTa:\n",
    "RoBERTa also faced challenges with neutral reviews, incorrectly classifying Review 3 as negative. However, it correctly identified the sentiment for Reviews 4 and 5, indicating that it has a slightly better grasp of neutrality than DistilBERT but still struggles with certain ambiguous cases.\n",
    "\n",
    "## Overall Performance:\n",
    "Overall, BART and RoBERTa are the top performers, with each making only one error. DistilBERT had more significant issues with sentiment classification in this dataset, making two errors. Thus, BART and RoBERTa are better choices for sentiment analysis in this context, with BART having a slight edge in correctly classifying the neutral Review 3. However, all models demonstrated difficulty in handling neutral reviews, reflecting the inherent complexity of classifying sentiments that lack clear positive or negative expressions.\n"
   ]
  }
 ],
 "metadata": {
  "kernelspec": {
   "display_name": "Python 3",
   "language": "python",
   "name": "python3"
  },
  "language_info": {
   "codemirror_mode": {
    "name": "ipython",
    "version": 3
   },
   "file_extension": ".py",
   "mimetype": "text/x-python",
   "name": "python",
   "nbconvert_exporter": "python",
   "pygments_lexer": "ipython3",
   "version": "3.10.11"
  }
 },
 "nbformat": 4,
 "nbformat_minor": 2
}
